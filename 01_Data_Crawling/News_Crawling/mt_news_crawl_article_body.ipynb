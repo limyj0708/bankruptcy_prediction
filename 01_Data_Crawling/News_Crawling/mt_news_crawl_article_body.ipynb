{
 "cells": [
  {
   "cell_type": "code",
   "execution_count": 1,
   "metadata": {},
   "outputs": [],
   "source": [
    "import asyncio\n",
    "import aiohttp\n",
    "from bs4 import BeautifulSoup\n",
    "import time\n",
    "import pandas as pd\n",
    "import numpy as np\n",
    "import re\n",
    "import string\n",
    "from IPython.display import clear_output\n",
    "\n",
    "def list_spliter_by_num(target_list, number):\n",
    "    \"\"\"\n",
    "    넣은 리스트를 number 단위로 쪼개는 함수\n",
    "    \"\"\"\n",
    "    for i in range(0, len(target_list), number):\n",
    "        yield target_list[i:i+number]\n",
    "\n",
    "async def get_text_from_url(url):\n",
    "    async with aiohttp.ClientSession() as session: # 다 끝나면 세션을 닫을것이다.\n",
    "        try :\n",
    "            async with session.get(url, headers={'user-agent': 'Mozilla/5.0'}) as req: # 다 끝나면 get 요청도 닫을것이다.\n",
    "                html = await req.text() # 여기서 시간이 오래 걸리므로 기다린다.\n",
    "        except Exception as e :\n",
    "            print('sessiong get Error : ', e)\n",
    "            main_txt = np.nan\n",
    "            return url, main_txt\n",
    "    \n",
    "    soup = BeautifulSoup(html, 'html.parser')\n",
    "    \n",
    "    try :\n",
    "        main_txt = soup.select_one('div#textBody').get_text()\n",
    "    except Exception as e :\n",
    "        main_txt = np.nan\n",
    "    \n",
    "    return url, main_txt\n",
    "    \n",
    "async def main():\n",
    "    # 저장할 파일 헤더 리스트\n",
    "    header_list = ['해당 기사 URL', '기사 내용']\n",
    "    # 저장할 경로\n",
    "    filepath = './NewsData/mt2/'\n",
    "    \n",
    "    try :\n",
    "        news_df = pd.read_csv(filepath + 'mt_news_url.csv', encoding = 'utf-8', dtype = {'종목코드' : object})\n",
    "#         news_df = pd.read_csv(filepath + 'mt_news_url_part1.csv', encoding = 'utf-8', dtype = {'종목코드' : object})\n",
    "        try :\n",
    "            main_df = pd.read_csv(filepath + 'mt_news_main.csv', encoding = 'utf-8', dtype = {'종목코드' : object})\n",
    "        except Exception as e :\n",
    "            main_df = pd.DataFrame(columns= header_list)\n",
    "            main_df.to_csv(filepath + 'mt_news_main.csv', encoding = 'utf-8', index = False)\n",
    "        \n",
    "        # 기사 url 중복 제거\n",
    "        copy_df = news_df.drop_duplicates(['해당 기사 URL'])\n",
    "        copy_df.set_index('해당 기사 URL', inplace = True)\n",
    "        search_df = copy_df.loc[set(news_df['해당 기사 URL']) - set(main_df['해당 기사 URL'])]\n",
    "        search_df.reset_index(inplace = True)\n",
    "\n",
    "        url_list = search_df['해당 기사 URL'].dropna().tolist()\n",
    "        split_list = list_spliter_by_num(url_list, 10)\n",
    "        \n",
    "        print('남은 기사수 : ', len(url_list))\n",
    "        \n",
    "        # 진행상황 체크\n",
    "        progress = 0\n",
    "        \n",
    "        while True :\n",
    "#             if progress > 200 : break\n",
    "            if progress % 200 == 0 : \n",
    "                clear_output(wait = True)\n",
    "                \n",
    "            mt_list = [] # 크롤링된 데이터 리스트\n",
    "            try :\n",
    "                try :\n",
    "                    tasks = []\n",
    "                    try : \n",
    "                        urls = next(split_list)\n",
    "                        for url in urls :\n",
    "                            tasks.append(get_text_from_url(url))\n",
    "                        \n",
    "                        result = await asyncio.gather(*tasks)\n",
    "#                         print('크롤링 결과 : ', result)\n",
    "                        # 리스트에 담아주기\n",
    "                        for idx in range(0, 10) :\n",
    "#                             print([result[idx][0], result[idx][1]])\n",
    "                            mt_list.append([result[idx][0], result[idx][1]]) # 0 : url, 1 : 본문 내용\n",
    "                    except StopIteration as s :\n",
    "                        return 1\n",
    "                    except Exception as e :\n",
    "                        print('whlie문 에러 : ', e)\n",
    "                        print('=' * 60)\n",
    "                        # 파일 저장\n",
    "                    mt_df = pd.DataFrame(mt_list, columns = header_list)\n",
    "                    mt_df.to_csv(filepath + 'mt_news_main.csv', mode = 'a', index = False, encoding = 'utf-8', header = False)\n",
    "                    progress += 10\n",
    "                    print('{} 기사 수집완료'.format(progress))\n",
    "                except StopIteration :\n",
    "                    print('모든 URL에 대한 수집이 완료되었습니다.')\n",
    "                    return 1\n",
    "            except Exception as e :\n",
    "                print('에러 : ', e)\n",
    "                return 0\n",
    "    except Exception as e : \n",
    "        print('파일읽기 실패 : ', e)"
   ]
  },
  {
   "cell_type": "code",
   "execution_count": 2,
   "metadata": {
    "scrolled": true
   },
   "outputs": [
    {
     "name": "stdout",
     "output_type": "stream",
     "text": [
      "sessiong get Error :  'euc_kr' codec can't decode byte 0xc1 in position 80586: illegal multibyte sequence\n",
      "19210 기사 수집완료\n",
      "19220 기사 수집완료\n",
      "19230 기사 수집완료\n",
      "19240 기사 수집완료\n",
      "19250 기사 수집완료\n",
      "19260 기사 수집완료\n",
      "sessiong get Error :  'euc_kr' codec can't decode byte 0x89 in position 79781: illegal multibyte sequence\n",
      "19270 기사 수집완료\n",
      "sessiong get Error :  'euc_kr' codec can't decode byte 0x83 in position 79235: illegal multibyte sequence\n",
      "sessiong get Error :  'euc_kr' codec can't decode byte 0xa4 in position 79210: illegal multibyte sequence\n",
      "sessiong get Error :  'euc_kr' codec can't decode byte 0xa6 in position 82355: illegal multibyte sequence\n",
      "19280 기사 수집완료\n",
      "sessiong get Error :  'euc_kr' codec can't decode byte 0xab in position 99: illegal multibyte sequence\n",
      "19290 기사 수집완료\n",
      "sessiong get Error :  'euc_kr' codec can't decode byte 0x89 in position 80113: illegal multibyte sequence\n",
      "19300 기사 수집완료\n",
      "19310 기사 수집완료\n",
      "19320 기사 수집완료\n",
      "sessiong get Error :  'euc_kr' codec can't decode byte 0x8a in position 80551: illegal multibyte sequence\n",
      "19330 기사 수집완료\n",
      "sessiong get Error :  'euc_kr' codec can't decode byte 0x8d in position 80399: illegal multibyte sequence\n",
      "19340 기사 수집완료\n",
      "19350 기사 수집완료\n",
      "걸린 시간 : 2869.711772441864\n"
     ]
    }
   ],
   "source": [
    "#####################################################\n",
    "############### 기사 내용 수집부분 ###################\n",
    "#####################################################\n",
    "while True :\n",
    "    clear_output(wait = True)\n",
    "    start = time.time()\n",
    "    result = await main()\n",
    "    end = time.time()\n",
    "    \n",
    "    print(f'걸린 시간 : {end-start}')\n",
    "    if result == 1 :\n",
    "        break\n",
    "    else :\n",
    "        continue"
   ]
  },
  {
   "cell_type": "markdown",
   "metadata": {},
   "source": [
    "### Test"
   ]
  },
  {
   "cell_type": "code",
   "execution_count": 2,
   "metadata": {},
   "outputs": [],
   "source": [
    "import pandas as pd\n",
    "import requests\n",
    "from bs4 import BeautifulSoup\n",
    "\n",
    "filepath = './NewsData/mt2/'\n",
    "\n",
    "df = pd.read_csv(filepath + 'mt_news_url.csv', encoding = 'utf-8')"
   ]
  },
  {
   "cell_type": "code",
   "execution_count": 3,
   "metadata": {},
   "outputs": [
    {
     "data": {
      "text/html": [
       "<div>\n",
       "<style scoped>\n",
       "    .dataframe tbody tr th:only-of-type {\n",
       "        vertical-align: middle;\n",
       "    }\n",
       "\n",
       "    .dataframe tbody tr th {\n",
       "        vertical-align: top;\n",
       "    }\n",
       "\n",
       "    .dataframe thead th {\n",
       "        text-align: right;\n",
       "    }\n",
       "</style>\n",
       "<table border=\"1\" class=\"dataframe\">\n",
       "  <thead>\n",
       "    <tr style=\"text-align: right;\">\n",
       "      <th></th>\n",
       "      <th>언론사명</th>\n",
       "      <th>기업명</th>\n",
       "      <th>종목코드</th>\n",
       "      <th>기사 업로드 날짜</th>\n",
       "      <th>기사 제목</th>\n",
       "      <th>해당 기사 URL</th>\n",
       "      <th>기사 연도</th>\n",
       "    </tr>\n",
       "  </thead>\n",
       "  <tbody>\n",
       "    <tr>\n",
       "      <td>0</td>\n",
       "      <td>머니투데이</td>\n",
       "      <td>동화약품</td>\n",
       "      <td>20</td>\n",
       "      <td>2019-08-20</td>\n",
       "      <td>한미약품, 상반기 R&amp;D 투자액 사상 첫 1000억 넘어</td>\n",
       "      <td>https://news.mt.co.kr/mtview.php?no=2019081914...</td>\n",
       "      <td>2019</td>\n",
       "    </tr>\n",
       "    <tr>\n",
       "      <td>1</td>\n",
       "      <td>머니투데이</td>\n",
       "      <td>동화약품</td>\n",
       "      <td>20</td>\n",
       "      <td>2019-04-10</td>\n",
       "      <td>이들이 세운건 기업이 아닌 나라였다</td>\n",
       "      <td>https://news.mt.co.kr/mtview.php?no=2019040912...</td>\n",
       "      <td>2019</td>\n",
       "    </tr>\n",
       "    <tr>\n",
       "      <td>2</td>\n",
       "      <td>머니투데이</td>\n",
       "      <td>동화약품</td>\n",
       "      <td>20</td>\n",
       "      <td>2019-04-10</td>\n",
       "      <td>\"나라 없이 기업 없다\"…100년 전 민족기업의 투혼</td>\n",
       "      <td>https://news.mt.co.kr/mtview.php?no=2019040910...</td>\n",
       "      <td>2019</td>\n",
       "    </tr>\n",
       "    <tr>\n",
       "      <td>3</td>\n",
       "      <td>머니투데이</td>\n",
       "      <td>동화약품</td>\n",
       "      <td>20</td>\n",
       "      <td>2019-04-17</td>\n",
       "      <td>\"그들이 이익에 원금까지 나라를 위해 낼 수 있었던 건…\"</td>\n",
       "      <td>https://news.mt.co.kr/mtview.php?no=2019041516...</td>\n",
       "      <td>2019</td>\n",
       "    </tr>\n",
       "    <tr>\n",
       "      <td>4</td>\n",
       "      <td>머니투데이</td>\n",
       "      <td>동화약품</td>\n",
       "      <td>20</td>\n",
       "      <td>2019-05-16</td>\n",
       "      <td>122년 제약 외길 '동화약품', 신약으로 100년 대계</td>\n",
       "      <td>https://news.mt.co.kr/mtview.php?no=2019051414...</td>\n",
       "      <td>2019</td>\n",
       "    </tr>\n",
       "  </tbody>\n",
       "</table>\n",
       "</div>"
      ],
      "text/plain": [
       "    언론사명   기업명  종목코드   기사 업로드 날짜                             기사 제목  \\\n",
       "0  머니투데이  동화약품    20  2019-08-20   한미약품, 상반기 R&D 투자액 사상 첫 1000억 넘어   \n",
       "1  머니투데이  동화약품    20  2019-04-10               이들이 세운건 기업이 아닌 나라였다   \n",
       "2  머니투데이  동화약품    20  2019-04-10     \"나라 없이 기업 없다\"…100년 전 민족기업의 투혼   \n",
       "3  머니투데이  동화약품    20  2019-04-17  \"그들이 이익에 원금까지 나라를 위해 낼 수 있었던 건…\"   \n",
       "4  머니투데이  동화약품    20  2019-05-16   122년 제약 외길 '동화약품', 신약으로 100년 대계   \n",
       "\n",
       "                                           해당 기사 URL  기사 연도  \n",
       "0  https://news.mt.co.kr/mtview.php?no=2019081914...   2019  \n",
       "1  https://news.mt.co.kr/mtview.php?no=2019040912...   2019  \n",
       "2  https://news.mt.co.kr/mtview.php?no=2019040910...   2019  \n",
       "3  https://news.mt.co.kr/mtview.php?no=2019041516...   2019  \n",
       "4  https://news.mt.co.kr/mtview.php?no=2019051414...   2019  "
      ]
     },
     "execution_count": 3,
     "metadata": {},
     "output_type": "execute_result"
    }
   ],
   "source": [
    "df.head()"
   ]
  },
  {
   "cell_type": "code",
   "execution_count": 4,
   "metadata": {},
   "outputs": [
    {
     "name": "stdout",
     "output_type": "stream",
     "text": [
      "<class 'pandas.core.frame.DataFrame'>\n",
      "RangeIndex: 1354277 entries, 0 to 1354276\n",
      "Data columns (total 7 columns):\n",
      "언론사명         1354277 non-null object\n",
      "기업명          1354277 non-null object\n",
      "종목코드         1354277 non-null int64\n",
      "기사 업로드 날짜    1353799 non-null object\n",
      "기사 제목        1353799 non-null object\n",
      "해당 기사 URL    1353799 non-null object\n",
      "기사 연도        1354277 non-null int64\n",
      "dtypes: int64(2), object(5)\n",
      "memory usage: 72.3+ MB\n"
     ]
    }
   ],
   "source": [
    "df.info()"
   ]
  },
  {
   "cell_type": "code",
   "execution_count": 5,
   "metadata": {},
   "outputs": [
    {
     "data": {
      "text/plain": [
       "593437"
      ]
     },
     "execution_count": 5,
     "metadata": {},
     "output_type": "execute_result"
    }
   ],
   "source": [
    "len(df['해당 기사 URL'].unique())"
   ]
  },
  {
   "cell_type": "code",
   "execution_count": 6,
   "metadata": {},
   "outputs": [
    {
     "data": {
      "text/plain": [
       "'https://news.mt.co.kr/mtview.php?no=2019040912027621738&type=1'"
      ]
     },
     "execution_count": 6,
     "metadata": {},
     "output_type": "execute_result"
    }
   ],
   "source": [
    "df.loc[1, '해당 기사 URL']"
   ]
  },
  {
   "cell_type": "code",
   "execution_count": 15,
   "metadata": {},
   "outputs": [
    {
     "data": {
      "text/plain": [
       "'\\n지난 3일 중국 상하이 황포구 대한민국 임시정부 외관 모습/사진=이건희 기자\\n\\n# 지난 3일 오전 중국 상하이 황포구 마당로에 위치한 대한민국 임시정부(임정)청사. 이곳은 주변과 이질적인 공간이었다. 청사가 있는 곳은 상하이 황포구 쇼핑가 신톈디(신천지)역 근처로, 서울의 압구정과 같은 곳이다. 100년 전인 1919년에 세워진 임정 기념관은 신톈디역에서 몇 걸음 떨어지지 않은 곳에 있었다. 기념관 입구 주변엔 전기오토바이들이 주차돼있고, 빨래가 널려 있었다. 100년 전 백범 김구와 임정 요인들의 공간은 허름했다. 등받이 없는 나무의자, 가파른 내부 계단, 어른 키 수준의 작은 화장실 공간 등 나라잃은 민족의 슬픔이 서려있었다. 100년이 지나 주변 지역은 천지개벽했지만, 이곳은 시간이 그대로 멈춘 듯 했다.\\n\\r\\n# 같은 시각 중국 충칭 위중구 연화지에 있는 대한민국 임정청사. 이봉창, 윤봉길 의사 의거 후 일제의 박해가 심해지자 임정청사는 항저우, 자싱, 전장, 난징, 창사, 광저우 등 중국 각지를 전전하다 1940년 4월 이곳에 자리를 잡았다. 1945년 8월15일 광복때까지 운영된 마지막 임정청사다. 상하이 청사의 12배 규모인 이곳은 법무부와 재무부(현 기획재정부) 등 각 부처 사무실이 있었다. 임정은 21년간 제법 체계가 갖춰졌다. 계단 양옆 건물 각 층엔 회의실 10여개와 외빈을 맞이하는 숙소 등이 있었다. 전시실엔 당시 대한민국이 정상국가로 운영됐음을 증명하는 각종 공문서들이 그대로 보존됐다. 이곳에서 대한민국의 뼈대가 형성됐다.\\n\\r\\n1919년 임정의 혼은 100년이란 시간을 타고 지금의 대한민국을 만들었다. 세계에서 가장 가난했던 나라가 이제 세계 10위권의 경제대국이 됐다. 1919~1945년, 대한민국의 시작을 이끌었던 임정은 어떻게 운영됐을까. 또 독립운동은 어떤 돈으로 할 수 있었을까.\\n\\r\\n당시 미국과 중국 등 해외에 나간 국민과 국내에 거주했던 국민이 십시일반 돈을 모아 임정 운영과 독립운동 자금으로 보탰고, 일본과 전쟁을 했던 중국 장개석 정부가 지원한 돈이 투입됐다는 게 정설이다. 여기서 우리에게 많이 알려지지 않은 사실이 있다. 바로 민족기업의 활약이다. 당시 기업인 중 나라를 위해 앞장선 사람들이 많았다.\\n\\r\\nLG그룹(당시 구인상회) 구인회 창업주가 대표적이다. LG는 중국 충칭 임정에 독립운동 자금을 지원했다. 구 창업주는 \"독립운동 자금이 필요하다\"며 불쑥 찾아온 백산 안희제 선생에게 1만원(80kg짜리 쌀 500가마)을 줬다. GS그룹 허만정 창업주도 안희제 선생이 만든 백산상회에 참여하며 중국 상하이 독립운동에 힘을 보탰다. 당시 백산상회 자금 운반책이 윤현진 상하이 임정 초기 재무차장이다. 효성그룹은 조홍제 창업주가 1926년 6.10만세운동에 참여하면서 옥살이를 하는 등 독립운동에 참여했다. 이후 기업이 중국 저장성 자싱시에 진출하면서 독립운동 정신을 이어받아 임정 유적지 보존 활동 등 항일 독립운동가들의 유적지 보호 활동을 펼쳤다.\\n\\r\\n미국에선 유일한 유한양행 창업주가 독립자금을 보내왔다. 유한양행은 1930년대 후반 미국 LA에서 독립운동 자금을 지원하면서, 1942년 재미한인으로 이뤄진 한인국방경비대(맹호군) 창설 주도했다. 까스활명수로 유명한 동화약품(당시 동화약방)은 활명수를 판 돈을 독립운동 자금으로 지원했다. 상하이 임시정부의 국내 비밀연락망도 동화약품에 마련됐다. 이름은 \\'서울연통부\\'였다.\\n\\r\\n이밖에 교보생명을 창업한 신용호 선생은 1940년 24살 나이에 중국 베이징 자금성 동쪽에 곡물 유통업 회사 북일공사를 세우고, 여기서 번 돈을 독립운동 자금으로 보탰다. 우리은행(당시 대한천일은행)은 민족은행 역할을 했다. 일제 치하의 엄혹한 시기 국내 상인들에게 자금을 지원하고, 상권을 보호하는 등 일본 금융자본에 맞서 민족 금융을 수호했다.\\n\\r\\n이들 기업이 세운건 결국 새로운 나라였다. 100년이 지난 지금 우리 기업에게 시사하는 바가 크다. 신주백 한림대 교수는 \"100년 전 기업들이 남모르게 독립운동을 지원한 그 정신은 나라를 올바르게 세우는 데 큰 도움이 됐을 것\"이라며 \"그 정신을 지금 시대에 비춰보면 일자리를 창출하며 나라 발전에 기여하는 기업가 정신과 같다\"고 말했다.본 기획물은 언론진흥기금의 지원을 받았습니다. '"
      ]
     },
     "execution_count": 15,
     "metadata": {},
     "output_type": "execute_result"
    }
   ],
   "source": [
    "# url = 'https://news.mt.co.kr/mtview.php?no=2019081914364439807&type=1'\n",
    "url = 'https://news.mt.co.kr/mtview.php?no=2019040912027621738&type=1'\n",
    "\n",
    "res = requests.get(url, headers={'user-agent': 'Mozilla/5.0'})\n",
    "soup = BeautifulSoup(res.text, 'html.parser')\n",
    "soup.select_one('div#textBody').get_text()"
   ]
  },
  {
   "cell_type": "markdown",
   "metadata": {},
   "source": [
    "### 본문 내용 크롤링 데이터 확인"
   ]
  },
  {
   "cell_type": "code",
   "execution_count": 7,
   "metadata": {},
   "outputs": [],
   "source": [
    "main_check_df = pd.read_csv(filepath + 'mt_news_main.csv', encoding = 'utf-8')"
   ]
  },
  {
   "cell_type": "code",
   "execution_count": 8,
   "metadata": {},
   "outputs": [
    {
     "data": {
      "text/html": [
       "<div>\n",
       "<style scoped>\n",
       "    .dataframe tbody tr th:only-of-type {\n",
       "        vertical-align: middle;\n",
       "    }\n",
       "\n",
       "    .dataframe tbody tr th {\n",
       "        vertical-align: top;\n",
       "    }\n",
       "\n",
       "    .dataframe thead th {\n",
       "        text-align: right;\n",
       "    }\n",
       "</style>\n",
       "<table border=\"1\" class=\"dataframe\">\n",
       "  <thead>\n",
       "    <tr style=\"text-align: right;\">\n",
       "      <th></th>\n",
       "      <th>해당 기사 URL</th>\n",
       "      <th>기사 내용</th>\n",
       "    </tr>\n",
       "  </thead>\n",
       "  <tbody>\n",
       "    <tr>\n",
       "      <td>0</td>\n",
       "      <td>https://news.mt.co.kr/mtview.php?no=2019030215...</td>\n",
       "      <td>\\n2006 독일 월드컵 한국-프랑스전 당시 지네딘 지단(가운데)과 박지성(오른쪽)...</td>\n",
       "    </tr>\n",
       "    <tr>\n",
       "      <td>1</td>\n",
       "      <td>https://news.mt.co.kr/mtview.php?no=2017053113...</td>\n",
       "      <td>\\n\\n중소기업청과 중소기업기술정보진흥원(이하 기정원)은 올해 산학연협력기술개발사업...</td>\n",
       "    </tr>\n",
       "    <tr>\n",
       "      <td>2</td>\n",
       "      <td>https://news.mt.co.kr/mtview.php?no=2019012810...</td>\n",
       "      <td>\\n한화 이글스 안영명이 25일 대전시 중구에 위치한 아동복지시설인 늘사랑 아동센터...</td>\n",
       "    </tr>\n",
       "    <tr>\n",
       "      <td>3</td>\n",
       "      <td>https://news.mt.co.kr/mtview.php?no=2018021411...</td>\n",
       "      <td>\\n14일 오전 경기도 의왕시 서울구치소를 찾은황각규 롯데그룹 부회장 /사진=박진영...</td>\n",
       "    </tr>\n",
       "    <tr>\n",
       "      <td>4</td>\n",
       "      <td>https://news.mt.co.kr/mtview.php?no=2017040415...</td>\n",
       "      <td>\\n 문재인 더불어민주당 대선 후보와 추미애 대표가 4일 서울 여의도 국회에서 열린...</td>\n",
       "    </tr>\n",
       "  </tbody>\n",
       "</table>\n",
       "</div>"
      ],
      "text/plain": [
       "                                           해당 기사 URL  \\\n",
       "0  https://news.mt.co.kr/mtview.php?no=2019030215...   \n",
       "1  https://news.mt.co.kr/mtview.php?no=2017053113...   \n",
       "2  https://news.mt.co.kr/mtview.php?no=2019012810...   \n",
       "3  https://news.mt.co.kr/mtview.php?no=2018021411...   \n",
       "4  https://news.mt.co.kr/mtview.php?no=2017040415...   \n",
       "\n",
       "                                               기사 내용  \n",
       "0  \\n2006 독일 월드컵 한국-프랑스전 당시 지네딘 지단(가운데)과 박지성(오른쪽)...  \n",
       "1  \\n\\n중소기업청과 중소기업기술정보진흥원(이하 기정원)은 올해 산학연협력기술개발사업...  \n",
       "2  \\n한화 이글스 안영명이 25일 대전시 중구에 위치한 아동복지시설인 늘사랑 아동센터...  \n",
       "3  \\n14일 오전 경기도 의왕시 서울구치소를 찾은황각규 롯데그룹 부회장 /사진=박진영...  \n",
       "4  \\n 문재인 더불어민주당 대선 후보와 추미애 대표가 4일 서울 여의도 국회에서 열린...  "
      ]
     },
     "execution_count": 8,
     "metadata": {},
     "output_type": "execute_result"
    }
   ],
   "source": [
    "main_check_df.head()"
   ]
  },
  {
   "cell_type": "code",
   "execution_count": 11,
   "metadata": {},
   "outputs": [],
   "source": [
    "test_index = 1"
   ]
  },
  {
   "cell_type": "code",
   "execution_count": 12,
   "metadata": {},
   "outputs": [
    {
     "data": {
      "text/plain": [
       "'https://news.mt.co.kr/mtview.php?no=2017053113475373757&type=1'"
      ]
     },
     "execution_count": 12,
     "metadata": {},
     "output_type": "execute_result"
    }
   ],
   "source": [
    "main_check_df.loc[test_index, '해당 기사 URL']"
   ]
  },
  {
   "cell_type": "code",
   "execution_count": 13,
   "metadata": {},
   "outputs": [
    {
     "data": {
      "text/plain": [
       "'\\n\\n중소기업청과 중소기업기술정보진흥원(이하 기정원)은 올해 산학연협력기술개발사업 중 전략협력(산연전용, 연구마을) 상반기 과제 161개를 최종 선정했다고 31일 밝혔다.\\n\\r\\n전략협력 사업은 특정 산업·기술분야에서 전략적 산학연협력체계를 구축한 뒤 유망 중소기업을 발굴해 고성장기업으로 육성하는 사업이다. 연구기관의 인적·물적 인프라를 활용해 중소기업의 기술혁신 역량을 강화하는 산연전용은 1년에 1억5000만원씩, 중소기업의 연구기능(부설연구소)을 대학 내 공간에 집적화해 상시 기술협력체계를 구축하는 연구마을은 2년에 2억원씩 지원한다.\\n\\r\\n기정원은 상반기 산연전용·연구마을사업에 신청한 기업 346개를 대상으로 2단계 심층평가를 거쳐 161개 과제, 247억원 지원을 결정했다.\\n\\r\\n아울러 기정원은 상반기 산연전용·연구마을 과제에 선정된 주관기관과 공동개발기관(대학·연구기관)을 대상으로 다음달 1일 충북대학교 개신문화관에서 협약설명회를 개최한다. \\n\\r\\n설명회는 선정기업의 대표자, 과제책임자, 실무자 및 공동개발기관인 대학·연구기관의 공동책임자 등을 대상으로 사업추진체계 및 절차, 수정사업계획서 작성, 전자협약 등 사업추진에 필요한 제반사항을 안내한다.\\n\\r\\n최광문 기정원 협력기술평가본부장은 \"참여하는 모든 중소기업이 대학·연구기관의 전략적 지원프로그램을 잘 활용하여 고성장기업으로 발전할 수 있는 기틀을 마련하기 바란다”고 밝혔다.                            '"
      ]
     },
     "execution_count": 13,
     "metadata": {},
     "output_type": "execute_result"
    }
   ],
   "source": [
    "main_check_df.loc[test_index, '기사 내용']"
   ]
  },
  {
   "cell_type": "markdown",
   "metadata": {},
   "source": [
    "### 데이터셋 두개로 나누기"
   ]
  },
  {
   "cell_type": "code",
   "execution_count": 4,
   "metadata": {},
   "outputs": [],
   "source": [
    "import pandas as pd\n",
    "import numpy as np\n",
    "\n",
    "filepath = './NewsData/mt2/'\n",
    "\n",
    "news_df = pd.read_csv(filepath + 'mt_news_url.csv', encoding = 'utf-8', dtype = {'종목코드' : object})\n",
    "try :\n",
    "    main_df = pd.read_csv(filepath + 'mt_news_main.csv', encoding = 'utf-8', dtype = {'종목코드' : object})\n",
    "except Exception as e :\n",
    "    main_df = pd.DataFrame(columns= header_list)\n",
    "    main_df.to_csv(filepath + 'mt_news_main.csv', encoding = 'utf-8', index = False)\n",
    "\n",
    "# 기사 url 중복 제거\n",
    "copy_df = news_df.drop_duplicates(['해당 기사 URL'])\n",
    "copy_df.set_index('해당 기사 URL', inplace = True)\n",
    "search_df = copy_df.loc[set(news_df['해당 기사 URL']) - set(main_df['해당 기사 URL'])]\n",
    "search_df.reset_index(inplace = True)"
   ]
  },
  {
   "cell_type": "code",
   "execution_count": 5,
   "metadata": {},
   "outputs": [
    {
     "data": {
      "text/plain": [
       "593437"
      ]
     },
     "execution_count": 5,
     "metadata": {},
     "output_type": "execute_result"
    }
   ],
   "source": [
    "len(news_df['해당 기사 URL'].unique())"
   ]
  },
  {
   "cell_type": "code",
   "execution_count": 6,
   "metadata": {},
   "outputs": [
    {
     "data": {
      "text/plain": [
       "155770"
      ]
     },
     "execution_count": 6,
     "metadata": {},
     "output_type": "execute_result"
    }
   ],
   "source": [
    "len(main_df['해당 기사 URL'].unique())"
   ]
  },
  {
   "cell_type": "code",
   "execution_count": 7,
   "metadata": {},
   "outputs": [
    {
     "data": {
      "text/plain": [
       "437667"
      ]
     },
     "execution_count": 7,
     "metadata": {},
     "output_type": "execute_result"
    }
   ],
   "source": [
    "len(search_df['해당 기사 URL'])"
   ]
  },
  {
   "cell_type": "code",
   "execution_count": 8,
   "metadata": {},
   "outputs": [
    {
     "data": {
      "text/plain": [
       "437667"
      ]
     },
     "execution_count": 8,
     "metadata": {},
     "output_type": "execute_result"
    }
   ],
   "source": [
    "len(news_df['해당 기사 URL'].unique()) - len(main_df['해당 기사 URL'].unique())"
   ]
  },
  {
   "cell_type": "code",
   "execution_count": 19,
   "metadata": {},
   "outputs": [],
   "source": [
    "len_num = int(len(search_df['해당 기사 URL']) / 2) + 1\n",
    "\n",
    "df1 = search_df[ : len_num ]\n",
    "df2 = search_df[len_num : ]"
   ]
  },
  {
   "cell_type": "code",
   "execution_count": 20,
   "metadata": {},
   "outputs": [
    {
     "data": {
      "text/html": [
       "<div>\n",
       "<style scoped>\n",
       "    .dataframe tbody tr th:only-of-type {\n",
       "        vertical-align: middle;\n",
       "    }\n",
       "\n",
       "    .dataframe tbody tr th {\n",
       "        vertical-align: top;\n",
       "    }\n",
       "\n",
       "    .dataframe thead th {\n",
       "        text-align: right;\n",
       "    }\n",
       "</style>\n",
       "<table border=\"1\" class=\"dataframe\">\n",
       "  <thead>\n",
       "    <tr style=\"text-align: right;\">\n",
       "      <th></th>\n",
       "      <th>해당 기사 URL</th>\n",
       "      <th>언론사명</th>\n",
       "      <th>기업명</th>\n",
       "      <th>종목코드</th>\n",
       "      <th>기사 업로드 날짜</th>\n",
       "      <th>기사 제목</th>\n",
       "      <th>기사 연도</th>\n",
       "    </tr>\n",
       "  </thead>\n",
       "  <tbody>\n",
       "    <tr>\n",
       "      <td>218829</td>\n",
       "      <td>https://news.mt.co.kr/mtview.php?no=2017011815...</td>\n",
       "      <td>머니투데이</td>\n",
       "      <td>대우조선해양</td>\n",
       "      <td>042660</td>\n",
       "      <td>2017.01.18 16:14</td>\n",
       "      <td>'5조원대 분식회계' 고재호 前 대우조선 사장, 1심서 징역 10년</td>\n",
       "      <td>2017</td>\n",
       "    </tr>\n",
       "    <tr>\n",
       "      <td>218830</td>\n",
       "      <td>https://news.mt.co.kr/mtview.php?no=2017042611...</td>\n",
       "      <td>머니투데이</td>\n",
       "      <td>대상</td>\n",
       "      <td>001680</td>\n",
       "      <td>2017.04.26 11:38</td>\n",
       "      <td>편의점에 원터치 신고시스템 구축…BGF, 경찰청과 협약</td>\n",
       "      <td>2017</td>\n",
       "    </tr>\n",
       "    <tr>\n",
       "      <td>218831</td>\n",
       "      <td>https://news.mt.co.kr/mtview.php?no=2019020715...</td>\n",
       "      <td>머니투데이</td>\n",
       "      <td>SBS</td>\n",
       "      <td>034120</td>\n",
       "      <td>2019-02-07</td>\n",
       "      <td>SBS미디어홀딩스, 작년 영업익 71억… '흑자전환'</td>\n",
       "      <td>2019</td>\n",
       "    </tr>\n",
       "    <tr>\n",
       "      <td>218832</td>\n",
       "      <td>https://news.mt.co.kr/mtview.php?no=2017052311...</td>\n",
       "      <td>머니투데이</td>\n",
       "      <td>SK하이닉스</td>\n",
       "      <td>000660</td>\n",
       "      <td>2017-05-23</td>\n",
       "      <td>[오늘의포인트]코스피 2300, 시총 변화는</td>\n",
       "      <td>2017</td>\n",
       "    </tr>\n",
       "    <tr>\n",
       "      <td>218833</td>\n",
       "      <td>https://news.mt.co.kr/mtview.php?no=2017101716...</td>\n",
       "      <td>머니투데이</td>\n",
       "      <td>신흥</td>\n",
       "      <td>004080</td>\n",
       "      <td>2017.10.18 17:36</td>\n",
       "      <td>세계로TV 김원기 대표, “아시아 신흥국 시장 주목해야”</td>\n",
       "      <td>2017</td>\n",
       "    </tr>\n",
       "  </tbody>\n",
       "</table>\n",
       "</div>"
      ],
      "text/plain": [
       "                                                해당 기사 URL   언론사명     기업명  \\\n",
       "218829  https://news.mt.co.kr/mtview.php?no=2017011815...  머니투데이  대우조선해양   \n",
       "218830  https://news.mt.co.kr/mtview.php?no=2017042611...  머니투데이      대상   \n",
       "218831  https://news.mt.co.kr/mtview.php?no=2019020715...  머니투데이     SBS   \n",
       "218832  https://news.mt.co.kr/mtview.php?no=2017052311...  머니투데이  SK하이닉스   \n",
       "218833  https://news.mt.co.kr/mtview.php?no=2017101716...  머니투데이      신흥   \n",
       "\n",
       "          종목코드         기사 업로드 날짜                                  기사 제목  기사 연도  \n",
       "218829  042660  2017.01.18 16:14  '5조원대 분식회계' 고재호 前 대우조선 사장, 1심서 징역 10년   2017  \n",
       "218830  001680  2017.04.26 11:38         편의점에 원터치 신고시스템 구축…BGF, 경찰청과 협약   2017  \n",
       "218831  034120        2019-02-07          SBS미디어홀딩스, 작년 영업익 71억… '흑자전환'   2019  \n",
       "218832  000660        2017-05-23               [오늘의포인트]코스피 2300, 시총 변화는   2017  \n",
       "218833  004080  2017.10.18 17:36        세계로TV 김원기 대표, “아시아 신흥국 시장 주목해야”   2017  "
      ]
     },
     "execution_count": 20,
     "metadata": {},
     "output_type": "execute_result"
    }
   ],
   "source": [
    "df1.tail()"
   ]
  },
  {
   "cell_type": "code",
   "execution_count": 21,
   "metadata": {},
   "outputs": [
    {
     "data": {
      "text/html": [
       "<div>\n",
       "<style scoped>\n",
       "    .dataframe tbody tr th:only-of-type {\n",
       "        vertical-align: middle;\n",
       "    }\n",
       "\n",
       "    .dataframe tbody tr th {\n",
       "        vertical-align: top;\n",
       "    }\n",
       "\n",
       "    .dataframe thead th {\n",
       "        text-align: right;\n",
       "    }\n",
       "</style>\n",
       "<table border=\"1\" class=\"dataframe\">\n",
       "  <thead>\n",
       "    <tr style=\"text-align: right;\">\n",
       "      <th></th>\n",
       "      <th>해당 기사 URL</th>\n",
       "      <th>언론사명</th>\n",
       "      <th>기업명</th>\n",
       "      <th>종목코드</th>\n",
       "      <th>기사 업로드 날짜</th>\n",
       "      <th>기사 제목</th>\n",
       "      <th>기사 연도</th>\n",
       "    </tr>\n",
       "  </thead>\n",
       "  <tbody>\n",
       "    <tr>\n",
       "      <td>218834</td>\n",
       "      <td>https://news.mt.co.kr/mtview.php?no=2017090416...</td>\n",
       "      <td>머니투데이</td>\n",
       "      <td>부산산업</td>\n",
       "      <td>011390</td>\n",
       "      <td>2017.09.04 16:11</td>\n",
       "      <td>기보, 경기도서 6번째 현장간담회 개최</td>\n",
       "      <td>2017</td>\n",
       "    </tr>\n",
       "    <tr>\n",
       "      <td>218835</td>\n",
       "      <td>https://news.mt.co.kr/mtview.php?no=2018030212...</td>\n",
       "      <td>머니투데이</td>\n",
       "      <td>대상</td>\n",
       "      <td>001680</td>\n",
       "      <td>2018.03.02 16:26</td>\n",
       "      <td>리맥스(RE/MAX), 국내 최초 '영문 물건 정보 서비스' 론칭</td>\n",
       "      <td>2018</td>\n",
       "    </tr>\n",
       "    <tr>\n",
       "      <td>218836</td>\n",
       "      <td>https://news.mt.co.kr/mtview.php?no=2013111516...</td>\n",
       "      <td>머니투데이</td>\n",
       "      <td>현대증권</td>\n",
       "      <td>003450</td>\n",
       "      <td>2013.11.15 16:31</td>\n",
       "      <td>[수익률게임] 1위 노리는 포트폴리오 신규 편입 종목은?</td>\n",
       "      <td>2013</td>\n",
       "    </tr>\n",
       "    <tr>\n",
       "      <td>218837</td>\n",
       "      <td>https://news.mt.co.kr/mtview.php?no=2018042315...</td>\n",
       "      <td>머니투데이</td>\n",
       "      <td>LG</td>\n",
       "      <td>003550</td>\n",
       "      <td>2018.04.23 16:17</td>\n",
       "      <td>골프존, 베트남 진출…아시아 시장 교두보</td>\n",
       "      <td>2018</td>\n",
       "    </tr>\n",
       "    <tr>\n",
       "      <td>218838</td>\n",
       "      <td>https://news.mt.co.kr/mtview.php?no=2018080715...</td>\n",
       "      <td>머니투데이</td>\n",
       "      <td>SK하이닉스</td>\n",
       "      <td>000660</td>\n",
       "      <td>2018-08-07</td>\n",
       "      <td>투심 약해지는 IT… 그래도 오를 종목은?</td>\n",
       "      <td>2018</td>\n",
       "    </tr>\n",
       "  </tbody>\n",
       "</table>\n",
       "</div>"
      ],
      "text/plain": [
       "                                                해당 기사 URL   언론사명     기업명  \\\n",
       "218834  https://news.mt.co.kr/mtview.php?no=2017090416...  머니투데이    부산산업   \n",
       "218835  https://news.mt.co.kr/mtview.php?no=2018030212...  머니투데이      대상   \n",
       "218836  https://news.mt.co.kr/mtview.php?no=2013111516...  머니투데이    현대증권   \n",
       "218837  https://news.mt.co.kr/mtview.php?no=2018042315...  머니투데이      LG   \n",
       "218838  https://news.mt.co.kr/mtview.php?no=2018080715...  머니투데이  SK하이닉스   \n",
       "\n",
       "          종목코드         기사 업로드 날짜                                 기사 제목  기사 연도  \n",
       "218834  011390  2017.09.04 16:11                 기보, 경기도서 6번째 현장간담회 개최   2017  \n",
       "218835  001680  2018.03.02 16:26  리맥스(RE/MAX), 국내 최초 '영문 물건 정보 서비스' 론칭   2018  \n",
       "218836  003450  2013.11.15 16:31       [수익률게임] 1위 노리는 포트폴리오 신규 편입 종목은?   2013  \n",
       "218837  003550  2018.04.23 16:17                골프존, 베트남 진출…아시아 시장 교두보   2018  \n",
       "218838  000660        2018-08-07               투심 약해지는 IT… 그래도 오를 종목은?   2018  "
      ]
     },
     "execution_count": 21,
     "metadata": {},
     "output_type": "execute_result"
    }
   ],
   "source": [
    "df2.head()"
   ]
  },
  {
   "cell_type": "code",
   "execution_count": 22,
   "metadata": {},
   "outputs": [],
   "source": [
    "df1.to_csv(filepath + 'mt_news_url_part1.csv', encoding = 'utf-8', index = False)\n",
    "df2.to_csv(filepath + 'mt_news_url_part2.csv', encoding = 'utf-8', index = False)"
   ]
  },
  {
   "cell_type": "code",
   "execution_count": 24,
   "metadata": {},
   "outputs": [
    {
     "data": {
      "text/plain": [
       "(218834, 218833)"
      ]
     },
     "execution_count": 24,
     "metadata": {},
     "output_type": "execute_result"
    }
   ],
   "source": [
    "len(df1), len(df2)"
   ]
  },
  {
   "cell_type": "code",
   "execution_count": null,
   "metadata": {},
   "outputs": [],
   "source": []
  }
 ],
 "metadata": {
  "kernelspec": {
   "display_name": "Python 3",
   "language": "python",
   "name": "python3"
  },
  "language_info": {
   "codemirror_mode": {
    "name": "ipython",
    "version": 3
   },
   "file_extension": ".py",
   "mimetype": "text/x-python",
   "name": "python",
   "nbconvert_exporter": "python",
   "pygments_lexer": "ipython3",
   "version": "3.7.4"
  }
 },
 "nbformat": 4,
 "nbformat_minor": 2
}
