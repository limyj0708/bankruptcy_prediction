{
 "cells": [
  {
   "cell_type": "code",
   "execution_count": 40,
   "metadata": {},
   "outputs": [],
   "source": [
    "import pandas as pd\n",
    "import requests\n",
    "import numpy as np\n",
    "import time\n",
    "import re\n",
    "from bs4 import BeautifulSoup\n",
    "from datetime import datetime\n",
    "from urllib import parse\n",
    "from IPython.display import clear_output\n",
    "\n",
    "filepath = './NewsData/mt2/'\n",
    "header_list = ['언론사명', '기업명', '종목코드', '기사 업로드 날짜', '기사 제목', '해당 기사 URL', '기사 연도']\n",
    "\n",
    "def mt_news_crwaler() :\n",
    "    \"\"\"\n",
    "    회사 명을 키워드로 조선일보 뉴스 검색 => 기사 업로드 날짜, 기사 제목, 해당 기사 URL 크롤링하는 함수\n",
    "    \n",
    "    enter_df : {DataFrame} 검색할 기업의 정보가 들어있는 DataFrame\n",
    "    \"\"\"\n",
    "    \n",
    "    enter_df = pd.read_excel('./Data/분석대상기업리스트.xls', encoding = 'utf-8', dtype = {'종목코드' : object, '상장폐지일' : object})\n",
    "    enter_df = enter_df[['종목코드', '기업명', '상장폐지일']]\n",
    "    \n",
    "    try : \n",
    "        total_df = pd.read_csv(filepath + 'mt_news_url.csv', encoding = 'utf-8', dtype = {'종목코드' : object})\n",
    "    except :\n",
    "        total_df = pd.DataFrame(columns= header_list)\n",
    "        total_df.to_csv(filepath + 'mt_news_url.csv', encoding = 'utf-8', index = False)\n",
    "    \n",
    "    # 진행된 기업 제거 코드\n",
    "    copy_df = enter_df.copy()\n",
    "    copy_df.set_index('종목코드', inplace = True)\n",
    "    search_df = copy_df.loc[set(enter_df['종목코드']) - set(total_df['종목코드'])]\n",
    "    search_df.reset_index(inplace = True)\n",
    "    \n",
    "    sleep_time = 1 # 접근 차단을 막기위한 delay time\n",
    "    sleep_page_time = 1\n",
    "    \n",
    "    for idx, _ in enumerate(search_df.index) :\n",
    "        clear_output(wait=True)\n",
    "        \n",
    "        print('남은기업수 : ', len(search_df) - idx)\n",
    "        \n",
    "        enternum = search_df.iloc[idx]['종목코드']\n",
    "        keyword = search_df.iloc[idx]['기업명']\n",
    "        end_date = search_df.iloc[idx]['상장폐지일']\n",
    "        journal = '머니투데이'\n",
    "\n",
    "        if pd.isnull(end_date) :\n",
    "            start_date = '20161231'\n",
    "            end_date = '20191231'\n",
    "        else :\n",
    "            end_date = search_df.iloc[idx]['상장폐지일'].strftime('%Y%m%d')\n",
    "            start_date = datetime.strptime(end_date, '%Y%m%d')\n",
    "            start_date = start_date.replace(year = start_date.year - 3)\n",
    "            start_date = start_date.strftime(\"%Y%m%d\")\n",
    "\n",
    "        curr_num = 1 # 현재 페이지 번호 \n",
    "        \n",
    "        start = datetime.strptime(start_date, '%Y%m%d').date()\n",
    "        end = datetime.strptime(end_date, '%Y%m%d').date()\n",
    "        \n",
    "        is_End = False\n",
    "        \n",
    "        try : \n",
    "            for year in range(start.year, end.year + 1) :\n",
    "                mt_list = []\n",
    "                error_list = []\n",
    "\n",
    "                # 2018년도 이후는 한번에 크롤링 끝나면 다음기업\n",
    "                if is_End : break\n",
    "\n",
    "                if year >= 2018 :\n",
    "                    url = f'https://search.mt.co.kr/searchNewsList.html?srchFd=TOTAL' +\\\n",
    "                    f'&range=IN&category=MTNW&reSrchFlag=&preKwd=&search_type=m&kwd={keyword}&pageNum={curr_num}' +\\\n",
    "                    f'&bgndt=20180101&enddt=20191231&subYear=&sortType=allwordsyn&subType=mt'\n",
    "                    is_End = True\n",
    "                else :\n",
    "                    url = f'https://search.mt.co.kr/searchNewsList.html?' +\\\n",
    "                    f'srchFd=TOTAL&range=TOTAL&category=MTNW&reSrchFlag=&preKwd=' +\\\n",
    "                    f'&search_type=m&kwd={keyword}&pageNum={curr_num}&bgndt=&enddt=&subYear={year}&sortType=allwordsyn&subType=mt'\n",
    "\n",
    "                kwd = {'kwd' : keyword }\n",
    "                params = parse.urlencode(kwd, encoding = 'EUC-KR')\n",
    "                res = requests.get(url, headers = {'user-agent': 'Mozilla/5.0'}, params = params)\n",
    "                soup = BeautifulSoup(res.text, 'html.parser')\n",
    "\n",
    "                try :\n",
    "                    total_page_num = int(soup.select_one('button.end').get('onclick').split('=')[-1][:-2]) # 뒤에 '; 포함되어있다\n",
    "                    print('{}, {} {} {}'.format(idx, keyword, year, total_page_num))\n",
    "                except Exception as e :\n",
    "                    total_page_num = 0\n",
    "                    print('{}, {} {} {}'.format(idx, keyword, year, total_page_num))\n",
    "                    mt_list.append([journal, keyword, enternum, np.nan, np.nan, np.nan, year])\n",
    "                    mt_df = pd.DataFrame(mt_list, columns= header_list)\n",
    "                    mt_df.to_csv(filepath + 'mt_news_url.csv', mode = 'a', index = False, encoding = 'utf-8', header = False)\n",
    "                    continue\n",
    "\n",
    "                try :\n",
    "                    for page in range(1, total_page_num + 1) :\n",
    "                        print('{} {} / {}'.format(keyword, page, total_page_num))\n",
    "                        \n",
    "                        curr_num = page\n",
    "                        \n",
    "                        page_url = f'https://search.mt.co.kr/searchNewsList.html?' +\\\n",
    "                                f'srchFd=TOTAL&range=TOTAL&category=MTNW&reSrchFlag=&preKwd=' +\\\n",
    "                                f'&search_type=m&kwd={keyword}&pageNum={curr_num}&bgndt=&enddt=&subYear={year}&sortType=allwordsyn&subType=mt'\n",
    "                        try :\n",
    "                            kwd = {'kwd' : keyword }\n",
    "                            params = parse.urlencode(kwd, encoding = 'EUC-KR')\n",
    "                            res = requests.get(page_url, headers = {'user-agent': 'Mozilla/5.0'}, params = params)\n",
    "                            soup = BeautifulSoup(res.text, 'html.parser')\n",
    "                        except Exception as e :\n",
    "                            print('page requests Error : ', e)\n",
    "                            page -= 1\n",
    "                            continue\n",
    "                        \n",
    "                        try :\n",
    "                            news_list = soup.select('ul.conlist_p1 > li.bundle > div.con')\n",
    "\n",
    "                            for news in news_list :\n",
    "                                title = news.select_one('strong.subject > a').text.strip()\n",
    "                                link = news.select_one('strong.subject > a').get('href')\n",
    "                                time_text = news.select_one('span.etc').text.split('\\xa0')[-1]\n",
    "                                date = datetime.strptime(time_text, '%Y.%m.%d %H:%M').date()\n",
    "                                date_year = date.year\n",
    "                                \n",
    "                                if start <= date and date <= end :\n",
    "                                    mt_list.append([journal, keyword, enternum, time_text, title, link, date_year])\n",
    "                        except Exception as e :\n",
    "                            print('page Error : ', e)\n",
    "                            continue\n",
    "                except Exception as e :\n",
    "                    print('page for loop Error : ', e)\n",
    "                    print('page url : ', page_url)\n",
    "                    print('=' * 60)\n",
    "                    continue\n",
    "\n",
    "                mt_df = pd.DataFrame(mt_list, columns= header_list)\n",
    "                mt_df.to_csv(filepath + 'mt_news_url.csv', mode = 'a', index = False, encoding = 'utf-8', header = False)\n",
    "\n",
    "                # 시간 딜레이\n",
    "                time.sleep(sleep_time)\n",
    "        except Exception as e :\n",
    "            print('year for loop Error : ', e)\n",
    "            time.sleep(5) \n",
    "            # 5초 쉬고 다시 시작\n",
    "            year -= 1\n",
    "            continue"
   ]
  },
  {
   "cell_type": "code",
   "execution_count": 41,
   "metadata": {
    "scrolled": true
   },
   "outputs": [
    {
     "name": "stdout",
     "output_type": "stream",
     "text": [
      "남은기업수 :  1\n",
      "166, 바이나믹 2007 0\n",
      "166, 바이나믹 2008 0\n",
      "166, 바이나믹 2009 0\n",
      "166, 바이나믹 2010 1\n",
      "바이나믹 1 / 1\n"
     ]
    }
   ],
   "source": [
    "mt_news_crwaler()"
   ]
  },
  {
   "cell_type": "markdown",
   "metadata": {},
   "source": [
    "### 크롤링된 데이터셋 중복 제거 후 저장"
   ]
  },
  {
   "cell_type": "code",
   "execution_count": 42,
   "metadata": {},
   "outputs": [],
   "source": [
    "filepath = './NewsData/mt2/'\n",
    "crawl_df = pd.read_csv(filepath + 'mt_news_url.csv', encoding = 'utf-8', dtype = {'종목코드' : object})"
   ]
  },
  {
   "cell_type": "code",
   "execution_count": 43,
   "metadata": {},
   "outputs": [
    {
     "name": "stdout",
     "output_type": "stream",
     "text": [
      "<class 'pandas.core.frame.DataFrame'>\n",
      "RangeIndex: 1354277 entries, 0 to 1354276\n",
      "Data columns (total 7 columns):\n",
      "언론사명         1354277 non-null object\n",
      "기업명          1354277 non-null object\n",
      "종목코드         1354277 non-null object\n",
      "기사 업로드 날짜    1353799 non-null object\n",
      "기사 제목        1353799 non-null object\n",
      "해당 기사 URL    1353799 non-null object\n",
      "기사 연도        1354277 non-null int64\n",
      "dtypes: int64(1), object(6)\n",
      "memory usage: 72.3+ MB\n"
     ]
    }
   ],
   "source": [
    "crawl_df.info()"
   ]
  },
  {
   "cell_type": "code",
   "execution_count": 10,
   "metadata": {},
   "outputs": [
    {
     "data": {
      "text/html": [
       "<div>\n",
       "<style scoped>\n",
       "    .dataframe tbody tr th:only-of-type {\n",
       "        vertical-align: middle;\n",
       "    }\n",
       "\n",
       "    .dataframe tbody tr th {\n",
       "        vertical-align: top;\n",
       "    }\n",
       "\n",
       "    .dataframe thead th {\n",
       "        text-align: right;\n",
       "    }\n",
       "</style>\n",
       "<table border=\"1\" class=\"dataframe\">\n",
       "  <thead>\n",
       "    <tr style=\"text-align: right;\">\n",
       "      <th></th>\n",
       "      <th>언론사명</th>\n",
       "      <th>기업명</th>\n",
       "      <th>종목코드</th>\n",
       "      <th>기사 업로드 날짜</th>\n",
       "      <th>기사 제목</th>\n",
       "      <th>해당 기사 URL</th>\n",
       "      <th>기사 연도</th>\n",
       "    </tr>\n",
       "  </thead>\n",
       "  <tbody>\n",
       "    <tr>\n",
       "      <td>0</td>\n",
       "      <td>머니투데이</td>\n",
       "      <td>굿모닝신한증권</td>\n",
       "      <td>008670</td>\n",
       "      <td>2003-01-01</td>\n",
       "      <td>\"1분기 600찍고 4분기 1000 도전\"</td>\n",
       "      <td>https://news.mt.co.kr/mtview.php?no=2002123117...</td>\n",
       "      <td>2003</td>\n",
       "    </tr>\n",
       "    <tr>\n",
       "      <td>1</td>\n",
       "      <td>머니투데이</td>\n",
       "      <td>굿모닝신한증권</td>\n",
       "      <td>008670</td>\n",
       "      <td>2002-12-30</td>\n",
       "      <td>올 증시 `음봉마감`</td>\n",
       "      <td>https://news.mt.co.kr/mtview.php?no=2002123017...</td>\n",
       "      <td>2002</td>\n",
       "    </tr>\n",
       "    <tr>\n",
       "      <td>2</td>\n",
       "      <td>머니투데이</td>\n",
       "      <td>굿모닝신한증권</td>\n",
       "      <td>008670</td>\n",
       "      <td>2002-12-30</td>\n",
       "      <td>[개장전]폐장일, 유종의 미 거둘까</td>\n",
       "      <td>https://news.mt.co.kr/mtview.php?no=2002123008...</td>\n",
       "      <td>2002</td>\n",
       "    </tr>\n",
       "    <tr>\n",
       "      <td>3</td>\n",
       "      <td>머니투데이</td>\n",
       "      <td>굿모닝신한증권</td>\n",
       "      <td>008670</td>\n",
       "      <td>2002-12-27</td>\n",
       "      <td>불안한 증시, 루머에 휘청</td>\n",
       "      <td>https://news.mt.co.kr/mtview.php?no=2002122714...</td>\n",
       "      <td>2002</td>\n",
       "    </tr>\n",
       "    <tr>\n",
       "      <td>4</td>\n",
       "      <td>머니투데이</td>\n",
       "      <td>굿모닝신한증권</td>\n",
       "      <td>008670</td>\n",
       "      <td>2002-12-27</td>\n",
       "      <td>애널리스트 위법거래 무더기 적발</td>\n",
       "      <td>https://news.mt.co.kr/mtview.php?no=2002122713...</td>\n",
       "      <td>2002</td>\n",
       "    </tr>\n",
       "  </tbody>\n",
       "</table>\n",
       "</div>"
      ],
      "text/plain": [
       "    언론사명      기업명    종목코드  ...                    기사 제목                                          해당 기사 URL 기사 연도\n",
       "0  머니투데이  굿모닝신한증권  008670  ...  \"1분기 600찍고 4분기 1000 도전\"  https://news.mt.co.kr/mtview.php?no=2002123117...  2003\n",
       "1  머니투데이  굿모닝신한증권  008670  ...              올 증시 `음봉마감`  https://news.mt.co.kr/mtview.php?no=2002123017...  2002\n",
       "2  머니투데이  굿모닝신한증권  008670  ...      [개장전]폐장일, 유종의 미 거둘까  https://news.mt.co.kr/mtview.php?no=2002123008...  2002\n",
       "3  머니투데이  굿모닝신한증권  008670  ...           불안한 증시, 루머에 휘청  https://news.mt.co.kr/mtview.php?no=2002122714...  2002\n",
       "4  머니투데이  굿모닝신한증권  008670  ...        애널리스트 위법거래 무더기 적발  https://news.mt.co.kr/mtview.php?no=2002122713...  2002\n",
       "\n",
       "[5 rows x 7 columns]"
      ]
     },
     "execution_count": 10,
     "metadata": {},
     "output_type": "execute_result"
    }
   ],
   "source": [
    "crawl_df.head()"
   ]
  },
  {
   "cell_type": "code",
   "execution_count": 44,
   "metadata": {},
   "outputs": [
    {
     "data": {
      "text/plain": [
       "2709"
      ]
     },
     "execution_count": 44,
     "metadata": {},
     "output_type": "execute_result"
    }
   ],
   "source": [
    "len(crawl_df['종목코드'].unique())"
   ]
  },
  {
   "cell_type": "code",
   "execution_count": 11,
   "metadata": {},
   "outputs": [],
   "source": [
    "test_df = crawl_df.drop_duplicates(['언론사명', '기업명', '종목코드', '기사 업로드 날짜', '기사 제목', '해당 기사 URL', '기사 연도'])"
   ]
  },
  {
   "cell_type": "code",
   "execution_count": 12,
   "metadata": {},
   "outputs": [
    {
     "name": "stdout",
     "output_type": "stream",
     "text": [
      "<class 'pandas.core.frame.DataFrame'>\n",
      "Int64Index: 1344193 entries, 0 to 1357770\n",
      "Data columns (total 7 columns):\n",
      "언론사명         1344193 non-null object\n",
      "기업명          1344193 non-null object\n",
      "종목코드         1344193 non-null object\n",
      "기사 업로드 날짜    1344193 non-null object\n",
      "기사 제목        1344193 non-null object\n",
      "해당 기사 URL    1344193 non-null object\n",
      "기사 연도        1344193 non-null int64\n",
      "dtypes: int64(1), object(6)\n",
      "memory usage: 82.0+ MB\n"
     ]
    }
   ],
   "source": [
    "test_df.info()"
   ]
  },
  {
   "cell_type": "code",
   "execution_count": 13,
   "metadata": {},
   "outputs": [
    {
     "data": {
      "text/html": [
       "<div>\n",
       "<style scoped>\n",
       "    .dataframe tbody tr th:only-of-type {\n",
       "        vertical-align: middle;\n",
       "    }\n",
       "\n",
       "    .dataframe tbody tr th {\n",
       "        vertical-align: top;\n",
       "    }\n",
       "\n",
       "    .dataframe thead th {\n",
       "        text-align: right;\n",
       "    }\n",
       "</style>\n",
       "<table border=\"1\" class=\"dataframe\">\n",
       "  <thead>\n",
       "    <tr style=\"text-align: right;\">\n",
       "      <th></th>\n",
       "      <th>언론사명</th>\n",
       "      <th>기업명</th>\n",
       "      <th>종목코드</th>\n",
       "      <th>기사 업로드 날짜</th>\n",
       "      <th>기사 제목</th>\n",
       "      <th>해당 기사 URL</th>\n",
       "      <th>기사 연도</th>\n",
       "    </tr>\n",
       "  </thead>\n",
       "  <tbody>\n",
       "    <tr>\n",
       "      <td>0</td>\n",
       "      <td>머니투데이</td>\n",
       "      <td>굿모닝신한증권</td>\n",
       "      <td>008670</td>\n",
       "      <td>2003-01-01</td>\n",
       "      <td>\"1분기 600찍고 4분기 1000 도전\"</td>\n",
       "      <td>https://news.mt.co.kr/mtview.php?no=2002123117...</td>\n",
       "      <td>2003</td>\n",
       "    </tr>\n",
       "    <tr>\n",
       "      <td>1</td>\n",
       "      <td>머니투데이</td>\n",
       "      <td>굿모닝신한증권</td>\n",
       "      <td>008670</td>\n",
       "      <td>2002-12-30</td>\n",
       "      <td>올 증시 `음봉마감`</td>\n",
       "      <td>https://news.mt.co.kr/mtview.php?no=2002123017...</td>\n",
       "      <td>2002</td>\n",
       "    </tr>\n",
       "    <tr>\n",
       "      <td>2</td>\n",
       "      <td>머니투데이</td>\n",
       "      <td>굿모닝신한증권</td>\n",
       "      <td>008670</td>\n",
       "      <td>2002-12-30</td>\n",
       "      <td>[개장전]폐장일, 유종의 미 거둘까</td>\n",
       "      <td>https://news.mt.co.kr/mtview.php?no=2002123008...</td>\n",
       "      <td>2002</td>\n",
       "    </tr>\n",
       "    <tr>\n",
       "      <td>3</td>\n",
       "      <td>머니투데이</td>\n",
       "      <td>굿모닝신한증권</td>\n",
       "      <td>008670</td>\n",
       "      <td>2002-12-27</td>\n",
       "      <td>불안한 증시, 루머에 휘청</td>\n",
       "      <td>https://news.mt.co.kr/mtview.php?no=2002122714...</td>\n",
       "      <td>2002</td>\n",
       "    </tr>\n",
       "    <tr>\n",
       "      <td>4</td>\n",
       "      <td>머니투데이</td>\n",
       "      <td>굿모닝신한증권</td>\n",
       "      <td>008670</td>\n",
       "      <td>2002-12-27</td>\n",
       "      <td>애널리스트 위법거래 무더기 적발</td>\n",
       "      <td>https://news.mt.co.kr/mtview.php?no=2002122713...</td>\n",
       "      <td>2002</td>\n",
       "    </tr>\n",
       "  </tbody>\n",
       "</table>\n",
       "</div>"
      ],
      "text/plain": [
       "    언론사명      기업명    종목코드  ...                    기사 제목                                          해당 기사 URL 기사 연도\n",
       "0  머니투데이  굿모닝신한증권  008670  ...  \"1분기 600찍고 4분기 1000 도전\"  https://news.mt.co.kr/mtview.php?no=2002123117...  2003\n",
       "1  머니투데이  굿모닝신한증권  008670  ...              올 증시 `음봉마감`  https://news.mt.co.kr/mtview.php?no=2002123017...  2002\n",
       "2  머니투데이  굿모닝신한증권  008670  ...      [개장전]폐장일, 유종의 미 거둘까  https://news.mt.co.kr/mtview.php?no=2002123008...  2002\n",
       "3  머니투데이  굿모닝신한증권  008670  ...           불안한 증시, 루머에 휘청  https://news.mt.co.kr/mtview.php?no=2002122714...  2002\n",
       "4  머니투데이  굿모닝신한증권  008670  ...        애널리스트 위법거래 무더기 적발  https://news.mt.co.kr/mtview.php?no=2002122713...  2002\n",
       "\n",
       "[5 rows x 7 columns]"
      ]
     },
     "execution_count": 13,
     "metadata": {},
     "output_type": "execute_result"
    }
   ],
   "source": [
    "test_df.head()"
   ]
  },
  {
   "cell_type": "code",
   "execution_count": 14,
   "metadata": {},
   "outputs": [],
   "source": [
    "test_df.to_csv(filepath + 'mt_news_url.csv', index = False, encoding = 'utf-8')"
   ]
  },
  {
   "cell_type": "code",
   "execution_count": 16,
   "metadata": {},
   "outputs": [
    {
     "data": {
      "text/plain": [
       "2540"
      ]
     },
     "execution_count": 16,
     "metadata": {},
     "output_type": "execute_result"
    }
   ],
   "source": [
    "len(test_df['종목코드'].unique())"
   ]
  },
  {
   "cell_type": "code",
   "execution_count": 20,
   "metadata": {},
   "outputs": [],
   "source": [
    "bind_df = pd.read_csv(filepath + 'mt_news_url_bind.csv', encoding = 'utf-8', dtype = {'종목코드' : object})"
   ]
  },
  {
   "cell_type": "code",
   "execution_count": 21,
   "metadata": {},
   "outputs": [
    {
     "data": {
      "text/html": [
       "<div>\n",
       "<style scoped>\n",
       "    .dataframe tbody tr th:only-of-type {\n",
       "        vertical-align: middle;\n",
       "    }\n",
       "\n",
       "    .dataframe tbody tr th {\n",
       "        vertical-align: top;\n",
       "    }\n",
       "\n",
       "    .dataframe thead th {\n",
       "        text-align: right;\n",
       "    }\n",
       "</style>\n",
       "<table border=\"1\" class=\"dataframe\">\n",
       "  <thead>\n",
       "    <tr style=\"text-align: right;\">\n",
       "      <th></th>\n",
       "      <th>언론사명</th>\n",
       "      <th>기업명</th>\n",
       "      <th>종목코드</th>\n",
       "      <th>기사 업로드 날짜</th>\n",
       "      <th>기사 제목</th>\n",
       "      <th>해당 기사 URL</th>\n",
       "      <th>기사 연도</th>\n",
       "    </tr>\n",
       "  </thead>\n",
       "  <tbody>\n",
       "    <tr>\n",
       "      <td>0</td>\n",
       "      <td>머니투데이</td>\n",
       "      <td>보광티에스</td>\n",
       "      <td>066690</td>\n",
       "      <td>NaN</td>\n",
       "      <td>NaN</td>\n",
       "      <td>NaN</td>\n",
       "      <td>2009</td>\n",
       "    </tr>\n",
       "    <tr>\n",
       "      <td>1</td>\n",
       "      <td>머니투데이</td>\n",
       "      <td>보광티에스</td>\n",
       "      <td>066690</td>\n",
       "      <td>NaN</td>\n",
       "      <td>NaN</td>\n",
       "      <td>NaN</td>\n",
       "      <td>2010</td>\n",
       "    </tr>\n",
       "    <tr>\n",
       "      <td>2</td>\n",
       "      <td>머니투데이</td>\n",
       "      <td>무림P&amp;P</td>\n",
       "      <td>009580</td>\n",
       "      <td>NaN</td>\n",
       "      <td>NaN</td>\n",
       "      <td>NaN</td>\n",
       "      <td>2016</td>\n",
       "    </tr>\n",
       "    <tr>\n",
       "      <td>3</td>\n",
       "      <td>머니투데이</td>\n",
       "      <td>무림P&amp;P</td>\n",
       "      <td>009580</td>\n",
       "      <td>NaN</td>\n",
       "      <td>NaN</td>\n",
       "      <td>NaN</td>\n",
       "      <td>2017</td>\n",
       "    </tr>\n",
       "    <tr>\n",
       "      <td>4</td>\n",
       "      <td>머니투데이</td>\n",
       "      <td>허메스홀딩스</td>\n",
       "      <td>012400</td>\n",
       "      <td>NaN</td>\n",
       "      <td>NaN</td>\n",
       "      <td>NaN</td>\n",
       "      <td>2009</td>\n",
       "    </tr>\n",
       "  </tbody>\n",
       "</table>\n",
       "</div>"
      ],
      "text/plain": [
       "    언론사명     기업명    종목코드  기사 업로드 날짜  기사 제목  해당 기사 URL  기사 연도\n",
       "0  머니투데이   보광티에스  066690        NaN    NaN        NaN   2009\n",
       "1  머니투데이   보광티에스  066690        NaN    NaN        NaN   2010\n",
       "2  머니투데이   무림P&P  009580        NaN    NaN        NaN   2016\n",
       "3  머니투데이   무림P&P  009580        NaN    NaN        NaN   2017\n",
       "4  머니투데이  허메스홀딩스  012400        NaN    NaN        NaN   2009"
      ]
     },
     "execution_count": 21,
     "metadata": {},
     "output_type": "execute_result"
    }
   ],
   "source": [
    "bind_df.head()"
   ]
  },
  {
   "cell_type": "code",
   "execution_count": 22,
   "metadata": {},
   "outputs": [],
   "source": [
    "con_df = pd.concat([test_df, bind_df])"
   ]
  },
  {
   "cell_type": "code",
   "execution_count": 24,
   "metadata": {
    "scrolled": true
   },
   "outputs": [
    {
     "data": {
      "text/plain": [
       "2542"
      ]
     },
     "execution_count": 24,
     "metadata": {},
     "output_type": "execute_result"
    }
   ],
   "source": [
    "len(con_df['종목코드'].unique())"
   ]
  },
  {
   "cell_type": "code",
   "execution_count": 29,
   "metadata": {},
   "outputs": [],
   "source": [
    "con_df.sort_values('종목코드', inplace = True)"
   ]
  },
  {
   "cell_type": "code",
   "execution_count": 31,
   "metadata": {},
   "outputs": [],
   "source": [
    "con_df.reset_index(drop = True, inplace = True)"
   ]
  },
  {
   "cell_type": "code",
   "execution_count": 32,
   "metadata": {},
   "outputs": [],
   "source": [
    "con_df.to_csv(filepath + 'mt_news_url.csv', index = False, encoding = 'utf-8')"
   ]
  },
  {
   "cell_type": "markdown",
   "metadata": {},
   "source": [
    "## Test"
   ]
  }
 ],
 "metadata": {
  "kernelspec": {
   "display_name": "Python 3",
   "language": "python",
   "name": "python3"
  },
  "language_info": {
   "codemirror_mode": {
    "name": "ipython",
    "version": 3
   },
   "file_extension": ".py",
   "mimetype": "text/x-python",
   "name": "python",
   "nbconvert_exporter": "python",
   "pygments_lexer": "ipython3",
   "version": "3.7.4"
  }
 },
 "nbformat": 4,
 "nbformat_minor": 2
}
