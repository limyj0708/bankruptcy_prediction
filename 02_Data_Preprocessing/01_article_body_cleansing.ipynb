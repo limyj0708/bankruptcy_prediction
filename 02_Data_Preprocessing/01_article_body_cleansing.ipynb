{
 "cells": [
  {
   "cell_type": "code",
   "execution_count": 9,
   "metadata": {},
   "outputs": [],
   "source": [
    "import csv\n",
    "import re"
   ]
  },
  {
   "cell_type": "code",
   "execution_count": 10,
   "metadata": {},
   "outputs": [],
   "source": [
    "def cleansing(text):\n",
    "    pattern = ('googletag.*\\}\\);') # Google Ad 태그 삭제\n",
    "    text = re.sub(pattern=pattern, repl=' ', string=text)\n",
    "    pattern = ('\\s+') # 모든 종류의 공백을 공백 하나로 변경\n",
    "    text = re.sub(pattern=pattern, repl=' ', string=text)\n",
    "    pattern = '([a-zA-Z0-9_.+-]+@[a-zA-Z0-9-]+\\.[a-zA-Z0-9-.]+)' # E-mail 주소 제거\n",
    "    text = re.sub(pattern=pattern, repl='', string=text)\n",
    "    pattern = '(http|ftp|https)://(?:[-\\w.]|(?:%[\\da-fA-F]{2}))+' # URL 제거\n",
    "    text = re.sub(pattern=pattern, repl='', string=text)\n",
    "    pattern = '([ㄱ-ㅎㅏ-ㅣ]+)' # 한글 자음, 모음 제거\n",
    "    text = re.sub(pattern=pattern, repl='', string=text)\n",
    "    pattern = '<[^>]*>' # HTML 태그 제거\n",
    "    text = re.sub(pattern=pattern, repl='', string=text)\n",
    "    pattern = '[^\\w\\s]' # 특수기호 제거\n",
    "    text = re.sub(pattern=pattern, repl='', string=text)\n",
    "    return text"
   ]
  },
  {
   "cell_type": "code",
   "execution_count": null,
   "metadata": {},
   "outputs": [],
   "source": [
    "with open('news_data_deduplicated.csv', 'r') as f:\n",
    "    with open('news_data_deduplicated_cleansed.csv', 'a') as f_c:\n",
    "        read = csv.reader(f)\n",
    "        write = csv.writer(f_c)\n",
    "        while True:\n",
    "            try:\n",
    "                clear_output(wait=True)\n",
    "                line = next(read)\n",
    "                new_line = []\n",
    "                for idx, each_element in enumerate(line):\n",
    "                    if idx = 3: # 4번째 열에 있는 기사 본문은 전처리 후 새 라인에 추가\n",
    "                        new_line.append(cleansing(each_element))\n",
    "                    elif: # 기사 본문이 아니면 그대로 라인에 추가.\n",
    "                        new_line.append(each_element)\n",
    "                write.writerow(new_line)\n",
    "            except StopIderation:\n",
    "                break"
   ]
  }
 ],
 "metadata": {
  "kernelspec": {
   "display_name": "Python 3.7.6 64-bit",
   "language": "python",
   "name": "python37664bitdbfb37c1afaa4aee8a842690059574f1"
  },
  "language_info": {
   "codemirror_mode": {
    "name": "ipython",
    "version": 3
   },
   "file_extension": ".py",
   "mimetype": "text/x-python",
   "name": "python",
   "nbconvert_exporter": "python",
   "pygments_lexer": "ipython3",
   "version": "3.7.6"
  }
 },
 "nbformat": 4,
 "nbformat_minor": 4
}
