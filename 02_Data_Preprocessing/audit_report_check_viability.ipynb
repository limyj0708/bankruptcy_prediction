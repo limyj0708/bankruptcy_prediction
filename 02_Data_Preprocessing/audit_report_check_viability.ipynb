{
 "cells": [
  {
   "cell_type": "code",
   "execution_count": 33,
   "metadata": {},
   "outputs": [],
   "source": [
    "import pandas as pd\n",
    "import math"
   ]
  },
  {
   "cell_type": "code",
   "execution_count": 53,
   "metadata": {},
   "outputs": [],
   "source": [
    "audit_df = pd.read_csv('dart_audit_report_data.csv', dtype={'stock_code':object, 'text':object})\n",
    "audit_df['n_opinion'] = 0.0 # 계속기업 존속 불확실 의견유무. 0이면 False, 1이면 True\n",
    "# 기본으로 0으로 채운 후, 체크하여 해당되는 리포트에만 1을 할당함"
   ]
  },
  {
   "cell_type": "code",
   "execution_count": 54,
   "metadata": {
    "scrolled": true
   },
   "outputs": [],
   "source": [
    "for each_report_idx in range(0,len(audit_df['text'])):\n",
    "    if isinstance(audit_df.at[each_report_idx, 'text'], float):\n",
    "        audit_df.at[each_report_idx, 'n_opinion'] = float('nan')\n",
    "        continue\n",
    "    \n",
    "    for each_sentence in audit_df.at[each_report_idx, 'text'].split('.'):\n",
    "        # 감사보고서는 무조건 문장이 .으로 끝나기 때문에, .로 분할하면 문장 단위로 분할할 수 있음\n",
    "        final_condition = 0\n",
    "        condition_1 = ('계속기업' in each_sentence) & ('존속' in each_sentence) & ('불확실' in each_sentence)\n",
    "        condition_2 = ('계속기업' in each_sentence) & ('의문' in each_sentence)\n",
    "        condition_3 = ('계속기업' in each_sentence) & ('불확실' in each_sentence)\n",
    "        \n",
    "        if (condition_1 | condition_2 | condition_3) :\n",
    "            final_condition = 1\n",
    "    audit_df.at[each_report_idx, 'n_opinion'] = final_condition"
   ]
  }
 ],
 "metadata": {
  "kernelspec": {
   "display_name": "Python 3.7.6 64-bit",
   "language": "python",
   "name": "python37664bitdbfb37c1afaa4aee8a842690059574f1"
  },
  "language_info": {
   "codemirror_mode": {
    "name": "ipython",
    "version": 3
   },
   "file_extension": ".py",
   "mimetype": "text/x-python",
   "name": "python",
   "nbconvert_exporter": "python",
   "pygments_lexer": "ipython3",
   "version": "3.7.6"
  }
 },
 "nbformat": 4,
 "nbformat_minor": 4
}
