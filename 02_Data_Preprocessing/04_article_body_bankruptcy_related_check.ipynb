{
 "cells": [
  {
   "cell_type": "code",
   "execution_count": null,
   "metadata": {},
   "outputs": [],
   "source": [
    "import pandas as pd"
   ]
  },
  {
   "cell_type": "code",
   "execution_count": null,
   "metadata": {},
   "outputs": [],
   "source": [
    "# 수집한 기사 120만개를 fastText로 학습시킨 후,\n",
    "# '부도' 와 유사한 단어 상위 30개 중 특정 기업 이름이나 의미가 맞지 않는 단어 6개를 제외한 24개 단어 선정\n",
    "bankruptcy_similar_words = [\n",
    "    '부도'\n",
    "    ,'채무불이행'\n",
    "    ,'파산'\n",
    "    ,'부실화'\n",
    "    ,'부실'\n",
    "    ,'자금난'\n",
    "    ,'불이행'\n",
    "    ,'디폴트'\n",
    "    ,'회생'\n",
    "    ,'매출채권'\n",
    "    ,'위기'\n",
    "    ,'경영난'\n",
    "    ,'법정'\n",
    "    ,'채무'\n",
    "    ,'파탄'\n",
    "    ,'연체'\n",
    "    ,'익스포저'\n",
    "    ,'대란'\n",
    "    ,'잠식'\n",
    "    ,'모면'\n",
    "    ,'존폐'\n",
    "    ,'부실기업'\n",
    "    ,'워크아웃'\n",
    "    ,'어음'\n",
    "    ,'미지급'\n",
    "]"
   ]
  },
  {
   "cell_type": "code",
   "execution_count": null,
   "metadata": {},
   "outputs": [],
   "source": [
    "total_df = pd.read_csv('news_data_deduplicated_cleansed.csv')"
   ]
  },
  {
   "cell_type": "code",
   "execution_count": null,
   "metadata": {},
   "outputs": [],
   "source": [
    "# 부도기사여부 열 추가. 기본값 False\n",
    "total_df['bankruptcy_article_check'] = False"
   ]
  },
  {
   "cell_type": "code",
   "execution_count": null,
   "metadata": {},
   "outputs": [],
   "source": [
    "# 부도관련 키워드가 기사에 포함되어 있으면, 해당 기사는 부도 관련 기사라고 판단\n",
    "for each_line in range(0,len(total_df)):\n",
    "    for each_keyword in bankruptcy_similar_words:\n",
    "        if each_keyword in total_df.iloc[each_line]['article_body']:\n",
    "            total_df.iloc[each_line]['bankruptcy_article_check'] == True\n",
    "        else:\n",
    "            pass"
   ]
  },
  {
   "cell_type": "code",
   "execution_count": null,
   "metadata": {},
   "outputs": [],
   "source": [
    "total_df.to_csv('news_data_deduplicated_main.csv')"
   ]
  }
 ],
 "metadata": {
  "kernelspec": {
   "display_name": "Python 3.7.6 64-bit",
   "language": "python",
   "name": "python37664bit13b851bd82a14939b665b988c31f1b0b"
  },
  "language_info": {
   "codemirror_mode": {
    "name": "ipython",
    "version": 3
   },
   "file_extension": ".py",
   "mimetype": "text/x-python",
   "name": "python",
   "nbconvert_exporter": "python",
   "pygments_lexer": "ipython3",
   "version": "3.7.6"
  }
 },
 "nbformat": 4,
 "nbformat_minor": 4
}
