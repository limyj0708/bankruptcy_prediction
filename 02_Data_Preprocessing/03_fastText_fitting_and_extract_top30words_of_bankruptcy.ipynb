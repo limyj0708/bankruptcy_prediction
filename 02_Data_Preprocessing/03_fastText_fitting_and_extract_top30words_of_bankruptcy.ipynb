{
 "cells": [
  {
   "cell_type": "code",
   "execution_count": 13,
   "metadata": {},
   "outputs": [],
   "source": [
    "from gensim.models import FastText\n",
    "import pandas as pd\n",
    "import pickle\n",
    "from IPython.display import clear_output\n",
    "from konlpy.tag import Okt, Komoran, Mecab, Hannanum, Kkma"
   ]
  },
  {
   "cell_type": "code",
   "execution_count": 18,
   "metadata": {
    "scrolled": true
   },
   "outputs": [
    {
     "name": "stdout",
     "output_type": "stream",
     "text": [
      "2020 년 아주 크 게 폭발 할 최고 의 바이오 급 등 유망주 발굴 무료 로 받 아 보 실 분 클릭 인공지능 최근 상한가 적중 19 . 12 . 20 영풍 제지 006740 적중 19 . 12 . 16 팍스넷 038160 적중 19 . 12 . 10 에이 프로 젠 제 약 003060 적중 19 . 12 . 06 젬 백스 지오 041590 적중 19 . 12 . 03 메이슨 캐피탈 021880 적중 19 . 12 . 2 알테 오 젠 196170 적중 19 . 11 . 22 SK 바이오 랜드 052260 적중 19 . 11 . 19 SDN 099220 적중 19 . 11 . 18 우정 바이오 215380 적중 19 . 11 . 13 CMG 제약 058820 적중 사셨 나요 상한가 종목 내일 나올 상한가 종목 은 이미 찌 라 시 노출 클릭 300 % 셀 트리 온 은 물론 1500 % 신라 젠 까지 능가 하 는 2020 년 최고 의 바이오 급 등 유망주 발굴 동사 의 신약 은 기존 치료제 의 부작용 을 완벽 하 게 잡 아 낸 놀라운 효능 으로 , 전 세계 40 개국 특허 를 단번에 획득 하 며 돌풍 을 일으키 고 있 다 . 다시 오를 바이오 2020 년 100 % 터질 신라 젠 후 속주 확인 현재 세계 최대 의료 시장 인 미국 진출 을 위해 현지 최고 의 바이오 연구소 와 협약 을 맺 고 FDA 판매 승인 막바지 절차 진행 중 1 폭 등 의 바이오 셀 트리 온 후 속주 여기 클릭 VIP 회원 생생 후기 개인 투자자 도 성공 할 수 있 다는 희망 을 갖 게 해 주 셨 습니다 . 뭐 라 감사 의 말씀 을 드려야 할지 후 속주 추천 도 설레 는 마음 으로 기다리 고 있 습니다 . 정말 감사 드립니다 . VIP 회원 , 정현욱 님 재료 와 수급 을 파악 해 급 등 전 선취매 하 는 전략 으로 고 수익 매수 후 3 일 만 에 급등 할 종목 100 % 무료 로 드립니다 . 추격 매수 절대 감정 에 휘둘리 지 않 는 인공지능 매매 일반 투자자 를 위한 추천 딱 1 선 다음 주 날아가 기 전 반드시 매수 해야 할 급등 임 박주 1 월 급등 수익 함께 내 실 분 은 바로 신청 하 세요 선착순 5 명 무료 공개 선착순 10 명 마감 신청 폭 주로 조기 마감 됨 을 양해 바랍니다 . 오늘 의 관심 주 삼성전자 유아 이 디 대양금속 대림 제지 서산\n",
      "\n",
      "헤\n"
     ]
    }
   ],
   "source": [
    "with open('article_body_tokenized.txt', 'r') as f:\n",
    "    print(f.readline())\n",
    "    print(f.readline()[0])"
   ]
  },
  {
   "cell_type": "code",
   "execution_count": null,
   "metadata": {},
   "outputs": [],
   "source": [
    "# fastText 모델 학습\n",
    "!./fastText/fasttext skipgram -input article_body_tokenized.txt -output result_tokenized -dim 100 -ws 3"
   ]
  },
  {
   "cell_type": "code",
   "execution_count": 19,
   "metadata": {},
   "outputs": [],
   "source": [
    "from gensim.models import KeyedVectors\n",
    "model = KeyedVectors.load_word2vec_format('result_tokenized.vec')"
   ]
  },
  {
   "cell_type": "code",
   "execution_count": 22,
   "metadata": {
    "scrolled": true
   },
   "outputs": [
    {
     "data": {
      "text/plain": [
       "[('채무불이행', 0.7117146849632263),\n",
       " ('파산', 0.670993447303772),\n",
       " ('부실화', 0.6374591588973999),\n",
       " ('부실', 0.6326149702072144),\n",
       " ('자금난', 0.6201349496841431),\n",
       " ('불이행', 0.6112999320030212),\n",
       " ('디폴트', 0.597563624382019),\n",
       " ('회생', 0.5880905985832214),\n",
       " ('매출채권', 0.5860508680343628),\n",
       " ('위기', 0.5692920684814453),\n",
       " ('경영난', 0.5686293840408325),\n",
       " ('법정', 0.5624008178710938),\n",
       " ('채무', 0.5615006685256958),\n",
       " ('사태', 0.5613707900047302),\n",
       " ('파탄', 0.5370084047317505),\n",
       " ('연체', 0.536543607711792),\n",
       " ('기설', 0.535281240940094),\n",
       " ('익스포저', 0.5338025093078613),\n",
       " ('대란', 0.5329005718231201),\n",
       " ('잠식', 0.5316050052642822),\n",
       " ('모면', 0.5307774543762207),\n",
       " ('존폐', 0.5305982828140259),\n",
       " ('부실기업', 0.5297956466674805),\n",
       " ('최악', 0.5293768048286438),\n",
       " ('워크아웃', 0.5289958119392395),\n",
       " ('어음', 0.5285745859146118),\n",
       " ('미지급', 0.5282562971115112),\n",
       " ('신성건설', 0.5238434076309204),\n",
       " ('처했', 0.5231027007102966),\n",
       " ('패소', 0.5228811502456665)]"
      ]
     },
     "execution_count": 22,
     "metadata": {},
     "output_type": "execute_result"
    }
   ],
   "source": [
    "model.most_similar('부도', topn=30, restrict_vocab=30000)\n",
    "# "
   ]
  },
  {
   "cell_type": "code",
   "execution_count": null,
   "metadata": {},
   "outputs": [],
   "source": []
  }
 ],
 "metadata": {
  "kernelspec": {
   "display_name": "Python 3",
   "language": "python",
   "name": "python3"
  },
  "language_info": {
   "codemirror_mode": {
    "name": "ipython",
    "version": 3
   },
   "file_extension": ".py",
   "mimetype": "text/x-python",
   "name": "python",
   "nbconvert_exporter": "python",
   "pygments_lexer": "ipython3",
   "version": "3.7.6"
  }
 },
 "nbformat": 4,
 "nbformat_minor": 4
}
